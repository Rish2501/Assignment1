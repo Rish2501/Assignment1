{
 "cells": [
  {
   "cell_type": "markdown",
   "id": "1f1cbfc2-012d-410c-b16c-dd819bd05648",
   "metadata": {},
   "source": [
    "## Finding the Amount of Water in the Glasses"
   ]
  },
  {
   "cell_type": "code",
   "execution_count": 1,
   "id": "42c3404b-7335-49fc-bda5-40de8e58decd",
   "metadata": {},
   "outputs": [],
   "source": [
    "# Import libraries\n",
    "import numpy as np\n",
    "from numpy import linalg as LA\n",
    "from scipy.linalg import lu"
   ]
  },
  {
   "cell_type": "markdown",
   "id": "74e0997c-4fcd-4a6e-ad0c-578d4b314784",
   "metadata": {},
   "source": [
    "### When 2 out of 4 glasses are being filled"
   ]
  },
  {
   "cell_type": "code",
   "execution_count": 40,
   "id": "c6c231b3-9f52-4302-a707-ca49af660a91",
   "metadata": {},
   "outputs": [],
   "source": [
    "def seq(N):\n",
    "    a = 1/4\n",
    "    for i in range(1,N):\n",
    "        b = 1/(2**(i+2))\n",
    "        a = a + b\n",
    "    \n",
    "    return(a)"
   ]
  },
  {
   "cell_type": "code",
   "execution_count": 39,
   "id": "6eedc0c8-ef5a-4ecd-9599-4c1aba55079a",
   "metadata": {},
   "outputs": [
    {
     "name": "stdout",
     "output_type": "stream",
     "text": [
      " For n = 100 a_n is, 0.5\n",
      " For n = 101 a_n is, 0.5\n",
      " For n = 102 a_n is, 0.5\n",
      " For n = 103 a_n is, 0.5\n",
      " For n = 104 a_n is, 0.5\n",
      " For n = 105 a_n is, 0.5\n",
      " For n = 106 a_n is, 0.5\n",
      " For n = 107 a_n is, 0.5\n",
      " For n = 108 a_n is, 0.5\n",
      " For n = 109 a_n is, 0.5\n",
      " For n = 1000 a_n is, 0.5\n",
      " For n = 1001 a_n is, 0.5\n",
      " For n = 1002 a_n is, 0.5\n",
      " For n = 1003 a_n is, 0.5\n",
      " For n = 1004 a_n is, 0.5\n",
      " For n = 1005 a_n is, 0.5\n",
      " For n = 1006 a_n is, 0.5\n",
      " For n = 1007 a_n is, 0.5\n",
      " For n = 1008 a_n is, 0.5\n",
      " For n = 1009 a_n is, 0.5\n"
     ]
    }
   ],
   "source": [
    "for r in range(100, 110):\n",
    "    print (\" For n =\", r, \"a_n is,\", (seq(r)))\n",
    "\n",
    "for r in range(1000, 1010):\n",
    "    print (\" For n =\", r, \"a_n is,\", (seq(r)))"
   ]
  },
  {
   "cell_type": "markdown",
   "id": "80c94f55-f1dd-4d3a-83e3-52de78af7ddd",
   "metadata": {},
   "source": [
    "### When 3 out of 4 glasses are being filled"
   ]
  },
  {
   "cell_type": "code",
   "execution_count": 34,
   "id": "8ef25a88-a414-4286-9a86-90642c654920",
   "metadata": {},
   "outputs": [],
   "source": [
    "def seq(N):\n",
    "    a = 1/6\n",
    "    for i in range(1,N):\n",
    "        b = 1/(6 * (3**(i)))\n",
    "        a = a + b\n",
    "    \n",
    "    return(a)"
   ]
  },
  {
   "cell_type": "code",
   "execution_count": 35,
   "id": "147309f2-b783-4130-82d2-fd91d6fbae0a",
   "metadata": {},
   "outputs": [
    {
     "name": "stdout",
     "output_type": "stream",
     "text": [
      " For n = 100 a_n is, 0.24999999999999992\n",
      " For n = 101 a_n is, 0.24999999999999992\n",
      " For n = 102 a_n is, 0.24999999999999992\n",
      " For n = 103 a_n is, 0.24999999999999992\n",
      " For n = 104 a_n is, 0.24999999999999992\n",
      " For n = 105 a_n is, 0.24999999999999992\n",
      " For n = 106 a_n is, 0.24999999999999992\n",
      " For n = 107 a_n is, 0.24999999999999992\n",
      " For n = 108 a_n is, 0.24999999999999992\n",
      " For n = 109 a_n is, 0.24999999999999992\n",
      " For n = 10000 a_n is, 0.24999999999999992\n",
      " For n = 10001 a_n is, 0.24999999999999992\n",
      " For n = 10002 a_n is, 0.24999999999999992\n",
      " For n = 10003 a_n is, 0.24999999999999992\n",
      " For n = 10004 a_n is, 0.24999999999999992\n",
      " For n = 10005 a_n is, 0.24999999999999992\n",
      " For n = 10006 a_n is, 0.24999999999999992\n",
      " For n = 10007 a_n is, 0.24999999999999992\n",
      " For n = 10008 a_n is, 0.24999999999999992\n",
      " For n = 10009 a_n is, 0.24999999999999992\n"
     ]
    }
   ],
   "source": [
    "for r in range(100, 110):\n",
    "    print (\" For n =\", r, \"a_n is,\", (seq(r)))\n",
    "\n",
    "for r in range(10000, 10010):\n",
    "    print (\" For n =\", r, \"a_n is,\", (seq(r)))"
   ]
  },
  {
   "cell_type": "code",
   "execution_count": null,
   "id": "1538ae7b-fa3d-4e4b-87c7-9f83d4d31e83",
   "metadata": {},
   "outputs": [],
   "source": []
  }
 ],
 "metadata": {
  "kernelspec": {
   "display_name": "Python 3 (ipykernel)",
   "language": "python",
   "name": "python3"
  },
  "language_info": {
   "codemirror_mode": {
    "name": "ipython",
    "version": 3
   },
   "file_extension": ".py",
   "mimetype": "text/x-python",
   "name": "python",
   "nbconvert_exporter": "python",
   "pygments_lexer": "ipython3",
   "version": "3.9.13"
  }
 },
 "nbformat": 4,
 "nbformat_minor": 5
}
