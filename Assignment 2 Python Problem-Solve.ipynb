{
 "cells": [
  {
   "cell_type": "markdown",
   "id": "c3c61cec-efa3-4767-ab8a-e74ad208b065",
   "metadata": {},
   "source": [
    "## Calculating the determinant"
   ]
  },
  {
   "cell_type": "code",
   "execution_count": 6,
   "id": "07889a29-3b63-43c1-9acd-9437d0dcf9bc",
   "metadata": {},
   "outputs": [],
   "source": [
    "import numpy as np\n",
    "\n",
    "def calculate_determinant(matrix):\n",
    "    # Convert the matrix to a NumPy array\n",
    "    matrix_array = np.array(matrix)\n",
    "    \n",
    "    # Calculate the determinant\n",
    "    determinant = np.linalg.det(matrix_array)\n",
    "    \n",
    "    return determinant"
   ]
  },
  {
   "cell_type": "code",
   "execution_count": 8,
   "id": "fcdbb69f-22ea-4075-87f4-66d65b0e8e2a",
   "metadata": {},
   "outputs": [
    {
     "name": "stdout",
     "output_type": "stream",
     "text": [
      "Determinant of the matrix is: 0.0\n"
     ]
    }
   ],
   "source": [
    "# Example usage\n",
    "matrix = [\n",
    "    [1, 0, 1],\n",
    "    [0, 1, 0],\n",
    "    [1, 0, 1]\n",
    "]\n",
    "\n",
    "result = calculate_determinant(matrix)\n",
    "print(f\"Determinant of the matrix is: {result}\")\n"
   ]
  },
  {
   "cell_type": "code",
   "execution_count": null,
   "id": "ea80b0c7-1e44-45cf-8541-9cff75b53829",
   "metadata": {},
   "outputs": [],
   "source": []
  }
 ],
 "metadata": {
  "kernelspec": {
   "display_name": "Python 3 (ipykernel)",
   "language": "python",
   "name": "python3"
  },
  "language_info": {
   "codemirror_mode": {
    "name": "ipython",
    "version": 3
   },
   "file_extension": ".py",
   "mimetype": "text/x-python",
   "name": "python",
   "nbconvert_exporter": "python",
   "pygments_lexer": "ipython3",
   "version": "3.9.13"
  }
 },
 "nbformat": 4,
 "nbformat_minor": 5
}
