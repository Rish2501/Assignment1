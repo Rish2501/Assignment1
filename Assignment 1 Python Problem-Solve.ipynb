{
 "cells": [
  {
   "cell_type": "code",
   "execution_count": 8,
   "id": "030b2d86-5c71-4e7c-a84b-c14cad0badf5",
   "metadata": {},
   "outputs": [],
   "source": [
    "import numpy as np\n",
    "from scipy import linalg"
   ]
  },
  {
   "cell_type": "markdown",
   "id": "c3c61cec-efa3-4767-ab8a-e74ad208b065",
   "metadata": {},
   "source": [
    "## Example of finding the first 70 elements of a sequence"
   ]
  },
  {
   "cell_type": "code",
   "execution_count": 31,
   "id": "07889a29-3b63-43c1-9acd-9437d0dcf9bc",
   "metadata": {},
   "outputs": [
    {
     "name": "stdout",
     "output_type": "stream",
     "text": [
      "[1, 3, 4, 7, 1, 8, 9, 7, 6, 3, 9, 2, 1, 3, 4, 7, 1, 8, 9, 7, 6, 3, 9, 2, 1, 3, 4, 7, 1, 8, 9, 7, 6, 3, 9, 2, 1, 3, 4, 7, 1, 8, 9, 7, 6, 3, 9, 2, 1, 3, 4, 7, 1, 8, 9, 7, 6, 3, 9, 2, 1, 3, 4, 7, 1, 8, 9, 7, 6, 3]\n"
     ]
    }
   ],
   "source": [
    "array = []\n",
    "\n",
    "def sequence(m, n):\n",
    "    array.append(m)\n",
    "    array.append(n)\n",
    "    for k in range(2, 70):  # Start from 2 since you already added the first two values\n",
    "        i = (m + n) % 10\n",
    "        m, n = n, i  # Update the values of m and n\n",
    "        array.append(i)\n",
    "    return array\n",
    "\n",
    "# Example usage\n",
    "result = sequence(1, 5)\n",
    "print(result)"
   ]
  },
  {
   "cell_type": "code",
   "execution_count": 33,
   "id": "fcdbb69f-22ea-4075-87f4-66d65b0e8e2a",
   "metadata": {},
   "outputs": [
    {
     "name": "stdout",
     "output_type": "stream",
     "text": [
      "The length of the bracelet is 13\n"
     ]
    }
   ],
   "source": [
    "repeat = False\n",
    "i = 2\n",
    "while repeat == False:\n",
    "    i += 1\n",
    "    if ((sequence(1,3)[i] == 3) and (sequence(1,3)[i-1] == 1)):\n",
    "        repeat = True\n",
    "        count = i\n",
    "print(\"The length of the bracelet is\", count)"
   ]
  },
  {
   "cell_type": "code",
   "execution_count": null,
   "id": "10cb860a-6972-43be-9ffc-add9fc7526f1",
   "metadata": {},
   "outputs": [],
   "source": []
  },
  {
   "cell_type": "code",
   "execution_count": 34,
   "id": "ea80b0c7-1e44-45cf-8541-9cff75b53829",
   "metadata": {},
   "outputs": [
    {
     "name": "stdout",
     "output_type": "stream",
     "text": [
      "[1, 3, 4, 7, 2, 0, 2, 2, 4, 6, 1, 7, 8, 6, 5, 2, 7, 0, 7, 7, 5, 3, 8, 2, 1, 3, 4, 7, 2, 0, 2, 2, 4, 6, 1, 7, 8, 6, 5, 2, 7, 0, 7, 7, 5, 3, 8, 2, 1, 3, 4, 7, 2, 0, 2, 2, 4, 6, 1, 7, 8, 6, 5, 2, 7, 0, 7, 7, 5, 3]\n"
     ]
    }
   ],
   "source": [
    "array = []\n",
    "\n",
    "def sequence(m, n):\n",
    "    array.append(m)\n",
    "    array.append(n)\n",
    "    for k in range(2, 70):  # Start from 2 since you already added the first two values\n",
    "        i = (m + n) % 9\n",
    "        m, n = n, i  # Update the values of m and n\n",
    "        array.append(i)\n",
    "    return array\n",
    "\n",
    "# Example usage\n",
    "result = sequence(1, 3)\n",
    "print(result)"
   ]
  }
 ],
 "metadata": {
  "kernelspec": {
   "display_name": "Python 3 (ipykernel)",
   "language": "python",
   "name": "python3"
  },
  "language_info": {
   "codemirror_mode": {
    "name": "ipython",
    "version": 3
   },
   "file_extension": ".py",
   "mimetype": "text/x-python",
   "name": "python",
   "nbconvert_exporter": "python",
   "pygments_lexer": "ipython3",
   "version": "3.9.13"
  }
 },
 "nbformat": 4,
 "nbformat_minor": 5
}
