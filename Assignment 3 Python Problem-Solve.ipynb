{
 "cells": [
  {
   "attachments": {},
   "cell_type": "markdown",
   "id": "c3c61cec-efa3-4767-ab8a-e74ad208b065",
   "metadata": {},
   "source": [
    "## Calculating the Jackpot Winner"
   ]
  },
  {
   "cell_type": "code",
   "execution_count": 137,
   "id": "07889a29-3b63-43c1-9acd-9437d0dcf9bc",
   "metadata": {},
   "outputs": [],
   "source": [
    "import numpy as np\n",
    "import random\n",
    "\n",
    "def jackpot(n):\n",
    "    x = [1, 2, 3, 4, 5]\n",
    "    for i in range(6,2024):\n",
    "        x.append(i)\n",
    "    for j in range(1,2023):\n",
    "        a = random.choices(x)\n",
    "        #print(a,b)\n",
    "        d = a[0]\n",
    "        x.remove(d)\n",
    "        b = random.choices(x)\n",
    "        e = b[0]\n",
    "        x.remove(e)\n",
    "        c = np.abs(d - e)\n",
    "        x.append(c)\n",
    "    return(x)"
   ]
  },
  {
   "cell_type": "code",
   "execution_count": 138,
   "id": "fcdbb69f-22ea-4075-87f4-66d65b0e8e2a",
   "metadata": {},
   "outputs": [
    {
     "name": "stdout",
     "output_type": "stream",
     "text": [
      "[286]\n"
     ]
    }
   ],
   "source": [
    "print(jackpot(5))"
   ]
  },
  {
   "cell_type": "code",
   "execution_count": null,
   "id": "ea80b0c7-1e44-45cf-8541-9cff75b53829",
   "metadata": {},
   "outputs": [],
   "source": []
  },
  {
   "cell_type": "code",
   "execution_count": null,
   "id": "e03c72b9-6672-40c9-b741-468e34abcf20",
   "metadata": {},
   "outputs": [],
   "source": []
  }
 ],
 "metadata": {
  "kernelspec": {
   "display_name": "Python 3 (ipykernel)",
   "language": "python",
   "name": "python3"
  },
  "language_info": {
   "codemirror_mode": {
    "name": "ipython",
    "version": 3
   },
   "file_extension": ".py",
   "mimetype": "text/x-python",
   "name": "python",
   "nbconvert_exporter": "python",
   "pygments_lexer": "ipython3",
   "version": "3.9.13"
  }
 },
 "nbformat": 4,
 "nbformat_minor": 5
}
