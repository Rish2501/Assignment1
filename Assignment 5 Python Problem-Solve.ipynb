{
 "cells": [
  {
   "cell_type": "code",
   "execution_count": 1,
   "id": "42c3404b-7335-49fc-bda5-40de8e58decd",
   "metadata": {},
   "outputs": [],
   "source": [
    "# Import libraries\n",
    "import numpy as np\n",
    "from numpy import linalg as LA\n",
    "from scipy.linalg import lu"
   ]
  },
  {
   "cell_type": "code",
   "execution_count": 8,
   "id": "c6c231b3-9f52-4302-a707-ca49af660a91",
   "metadata": {},
   "outputs": [],
   "source": [
    "def Recursion(N):\n",
    "    a = 1\n",
    "    for i in range(2,N+1):\n",
    "        a = a + i\n",
    "    \n",
    "    return(a)"
   ]
  },
  {
   "cell_type": "code",
   "execution_count": 11,
   "id": "6eedc0c8-ef5a-4ecd-9599-4c1aba55079a",
   "metadata": {},
   "outputs": [
    {
     "data": {
      "text/plain": [
       "10"
      ]
     },
     "execution_count": 11,
     "metadata": {},
     "output_type": "execute_result"
    }
   ],
   "source": [
    "Recursion(5)"
   ]
  },
  {
   "cell_type": "code",
   "execution_count": null,
   "id": "8ef25a88-a414-4286-9a86-90642c654920",
   "metadata": {},
   "outputs": [],
   "source": []
  }
 ],
 "metadata": {
  "kernelspec": {
   "display_name": "Python 3 (ipykernel)",
   "language": "python",
   "name": "python3"
  },
  "language_info": {
   "codemirror_mode": {
    "name": "ipython",
    "version": 3
   },
   "file_extension": ".py",
   "mimetype": "text/x-python",
   "name": "python",
   "nbconvert_exporter": "python",
   "pygments_lexer": "ipython3",
   "version": "3.9.13"
  }
 },
 "nbformat": 4,
 "nbformat_minor": 5
}
